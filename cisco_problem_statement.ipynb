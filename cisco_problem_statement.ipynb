{
  "cells": [
    {
      "cell_type": "markdown",
      "metadata": {
        "id": "view-in-github",
        "colab_type": "text"
      },
      "source": [
        "<a href=\"https://colab.research.google.com/github/Shristi1104/NETWORK_SIMULATOR/blob/main/cisco_problem_statement.ipynb\" target=\"_parent\"><img src=\"https://colab.research.google.com/assets/colab-badge.svg\" alt=\"Open In Colab\"/></a>"
      ]
    },
    {
      "cell_type": "markdown",
      "source": [
        "main.c"
      ],
      "metadata": {
        "id": "tGHEP-J-xvO7"
      }
    },
    {
      "cell_type": "code",
      "source": [
        "#include <stdio.h>\n",
        "#include <stdlib.h>\n",
        "#include \"parser.h\"\n",
        "#include \"topology.h\"\n",
        "#include \"validation.h\"\n",
        "#include \"simulation.h\"\n",
        "\n",
        "int main(int argc, char *argv[]) {\n",
        "    printf(\"=== Network Simulator Tool ===\\n\");\n",
        "\n",
        "    if (argc < 2) {\n",
        "        printf(\"Usage: %s <config-directory>\\n\", argv[0]);\n",
        "        return 1;\n",
        "    }\n",
        "\n",
        "    char *configDir = argv[1];\n",
        "\n",
        "\n",
        "    parse_configs(configDir);\n",
        "\n",
        "\n",
        "    build_topology();\n",
        "\n",
        "\n",
        "    validate_topology();\n",
        "\n",
        "\n",
        "    run_simulation();\n",
        "\n",
        "    return 0;\n",
        "}"
      ],
      "metadata": {
        "id": "JyvLEoNbxpxH"
      },
      "execution_count": null,
      "outputs": []
    },
    {
      "cell_type": "markdown",
      "source": [
        "parser.c"
      ],
      "metadata": {
        "id": "fzyJ-75kx3is"
      }
    },
    {
      "cell_type": "code",
      "source": [
        "#include <stdio.h>\n",
        "#include <stdlib.h>\n",
        "#include <string.h>\n",
        "#include <dirent.h>\n",
        "#include \"parser.h\"\n",
        "\n",
        "#define MAX_PATH_LEN 512   // safer buffer size for file paths\n",
        "\n",
        "void parse_configs(const char *configDir) {\n",
        "    DIR *dir;\n",
        "    struct dirent *entry;\n",
        "\n",
        "    dir = opendir(configDir);\n",
        "    if (!dir) {\n",
        "        perror(\"Failed to open config directory\");\n",
        "        exit(EXIT_FAILURE);\n",
        "    }\n",
        "\n",
        "    printf(\"Parsing config files in directory: %s\\n\", configDir);\n",
        "\n",
        "    while ((entry = readdir(dir)) != NULL) {\n",
        "        // skip \".\" and \"..\"\n",
        "        if (strcmp(entry->d_name, \".\") == 0 || strcmp(entry->d_name, \"..\") == 0) {\n",
        "            continue;\n",
        "        }\n",
        "\n",
        "        char filepath[MAX_PATH_LEN];\n",
        "        int written = snprintf(filepath, sizeof(filepath), \"%s/%s\", configDir, entry->d_name);\n",
        "\n",
        "        // Check for truncation\n",
        "        if (written < 0 || written >= sizeof(filepath)) {\n",
        "            fprintf(stderr, \"Error: file path too long, skipping: %s/%s\\n\",\n",
        "                    configDir, entry->d_name);\n",
        "            continue;\n",
        "        }\n",
        "\n",
        "        FILE *file = fopen(filepath, \"r\");\n",
        "        if (!file) {\n",
        "            perror(\"Failed to open config file\");\n",
        "            continue; // skip instead of crashing\n",
        "        }\n",
        "\n",
        "        printf(\"  Loaded config: %s\\n\", filepath);\n",
        "\n",
        "        // Example: just read line by line for now\n",
        "        char line[256];\n",
        "        while (fgets(line, sizeof(line), file)) {\n",
        "            printf(\"    %s\", line); // display contents\n",
        "        }\n",
        "\n",
        "        fclose(file);\n",
        "    }\n",
        "\n",
        "    closedir(dir);\n",
        "}"
      ],
      "metadata": {
        "id": "X-VqVY46x41P"
      },
      "execution_count": null,
      "outputs": []
    },
    {
      "cell_type": "markdown",
      "source": [
        "topology.c"
      ],
      "metadata": {
        "id": "ZwIfUf--x-71"
      }
    },
    {
      "cell_type": "code",
      "source": [
        "#include \"topology.h\"\n",
        "#include <stdio.h>\n",
        "#include <string.h>\n",
        "\n",
        "// Define global variables\n",
        "struct Router routers[100];\n",
        "int routerCount = 0;\n",
        "\n",
        "void build_topology() {\n",
        "    printf(\"Building network topology...\\n\");\n",
        "\n",
        "    // Example setup: you can expand this later\n",
        "    routerCount = 2;\n",
        "\n",
        "    routers[0].id = 1;\n",
        "    strncpy(routers[0].name, \"Router-A\", sizeof(routers[0].name) - 1);\n",
        "    routers[0].name[sizeof(routers[0].name) - 1] = '\\0';\n",
        "\n",
        "    routers[1].id = 2;\n",
        "    strncpy(routers[1].name, \"Router-B\", sizeof(routers[1].name) - 1);\n",
        "    routers[1].name[sizeof(routers[1].name) - 1] = '\\0';\n",
        "\n",
        "    printf(\"Topology built with %d routers\\n\", routerCount);\n",
        "}\n"
      ],
      "metadata": {
        "id": "OS7q0ZBcyAQi"
      },
      "execution_count": null,
      "outputs": []
    },
    {
      "cell_type": "markdown",
      "source": [
        "validation.c"
      ],
      "metadata": {
        "id": "CPmAFf9EyDH1"
      }
    },
    {
      "cell_type": "code",
      "source": [
        "#include <stdio.h>\n",
        "#include <string.h>\n",
        "#include \"parser.h\"\n",
        "\n",
        "extern RouterConfig routers[];\n",
        "extern int routerCount;\n",
        "\n",
        "void validate_topology() {\n",
        "    printf(\"\\n--- Validating Topology ---\\n\");\n",
        "\n",
        "    // Check duplicate IPs\n",
        "    for (int i = 0; i < routerCount; i++) {\n",
        "        for (int j = i + 1; j < routerCount; j++) {\n",
        "            if (strcmp(routers[i].ip, routers[j].ip) == 0) {\n",
        "                printf(\"Error: Duplicate IP %s between %s and %s\\n\",\n",
        "                       routers[i].ip, routers[i].routerName, routers[j].routerName);\n",
        "            }\n",
        "        }\n",
        "    }\n",
        "}\n"
      ],
      "metadata": {
        "id": "SD1Re8qGyE2w"
      },
      "execution_count": null,
      "outputs": []
    },
    {
      "cell_type": "markdown",
      "source": [
        "simulation.c"
      ],
      "metadata": {
        "id": "u602KMHYyIDe"
      }
    },
    {
      "cell_type": "code",
      "source": [
        "#include <stdio.h>\n",
        "#include \"parser.h\"\n",
        "\n",
        "extern RouterConfig routers[];\n",
        "extern int routerCount;\n",
        "\n",
        "void run_simulation() {\n",
        "    printf(\"\\n--- Running Day-1 Simulation ---\\n\");\n",
        "    for (int i = 0; i < routerCount; i++) {\n",
        "        printf(\"%s sends ARP and OSPF Hello on IP %s\\n\",\n",
        "               routers[i].routerName, routers[i].ip);\n",
        "    }\n",
        "}\n"
      ],
      "metadata": {
        "id": "ygJg6njIyJLn"
      },
      "execution_count": null,
      "outputs": []
    },
    {
      "cell_type": "markdown",
      "source": [
        "OUTPUT"
      ],
      "metadata": {
        "id": "lliqexKHyYlx"
      }
    },
    {
      "cell_type": "code",
      "source": [
        "kiit@Shristi:~/network-simulator/src$ ./simulator ../Conf\n",
        "=== Network Simulator Tool ===\n",
        "Parsing config files in directory: ../Conf\n",
        "Building network topology...\n",
        "Topology built with 2 routers\n",
        "\n",
        "--- Validating Topology ---\n",
        "\n",
        "--- Running Day-1 Simulation ---\n",
        "\u0001 sends ARP and OSPF Hello on IP -A\n",
        "Router-B sends ARP and OSPF Hello on IP\n",
        "kiit@Shristi:~/network-simulator/src$"
      ],
      "metadata": {
        "id": "J2usIeijyaGD"
      },
      "execution_count": null,
      "outputs": []
    }
  ],
  "metadata": {
    "colab": {
      "toc_visible": true,
      "provenance": [],
      "include_colab_link": true
    },
    "kernelspec": {
      "display_name": "Python 3",
      "name": "python3"
    }
  },
  "nbformat": 4,
  "nbformat_minor": 0
}